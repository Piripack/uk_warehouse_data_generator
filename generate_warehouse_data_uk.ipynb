{
  "nbformat": 4,
  "nbformat_minor": 0,
  "metadata": {
    "colab": {
      "provenance": [],
      "authorship_tag": "ABX9TyPEZY97Kyuk096jW3kzT78J",
      "include_colab_link": true
    },
    "kernelspec": {
      "name": "python3",
      "display_name": "Python 3"
    },
    "language_info": {
      "name": "python"
    }
  },
  "cells": [
    {
      "cell_type": "markdown",
      "metadata": {
        "id": "view-in-github",
        "colab_type": "text"
      },
      "source": [
        "<a href=\"https://colab.research.google.com/github/Piripack/AndreRamosPortfolio/blob/main/generate_warehouse_data_uk.ipynb\" target=\"_parent\"><img src=\"https://colab.research.google.com/assets/colab-badge.svg\" alt=\"Open In Colab\"/></a>"
      ]
    },
    {
      "cell_type": "markdown",
      "source": [
        "**Project: Automated Generation of Warehouse Store Data**\n",
        "\n",
        "Overview:\n",
        "\n",
        "This project aims to generate a synthetic dataset of warehouse stores located across various counties in the United Kingdom. The dataset includes essential information for each store, such as store ID, name, county, city, address, postal code, phone number, email, manager name, and inventory count. The primary goal is to create a realistic dataset that can be used for testing, development, and analysis purposes without relying on actual data."
      ],
      "metadata": {
        "id": "KFnENaYswAXD"
      }
    },
    {
      "cell_type": "markdown",
      "source": [],
      "metadata": {
        "id": "voP0TDMrx0lL"
      }
    },
    {
      "cell_type": "code",
      "execution_count": null,
      "metadata": {
        "id": "TFEfwB9-sk6w"
      },
      "outputs": [],
      "source": [
        "import pandas as pd\n",
        "import random\n",
        "import faker\n"
      ]
    },
    {
      "cell_type": "markdown",
      "source": [
        "import pandas as pd: Imports the pandas library, which is used for data manipulation and analysis. import random: Imports the random library to generate random selections. import faker: Imports the faker library, which generates fake data."
      ],
      "metadata": {
        "id": "bvgQtIAoxqhs"
      }
    },
    {
      "cell_type": "code",
      "source": [
        "fake = faker.Faker('en_GB')\n"
      ],
      "metadata": {
        "id": "iQhImHX0wzuA"
      },
      "execution_count": null,
      "outputs": []
    },
    {
      "cell_type": "markdown",
      "source": [
        "fake = faker.Faker('en_GB'): This initializes the Faker library with the 'en_GB' locale to generate data that is specific to the United Kingdom, such as addresses and phone numbers."
      ],
      "metadata": {
        "id": "9MLQsAvGw5aL"
      }
    },
    {
      "cell_type": "code",
      "source": [
        "uk_counties = [\"Greater Manchester\", \"Merseyside\", \"West Midlands\", \"West Yorkshire\",\n",
        "               \"South Yorkshire\", \"Tyne and Wear\", \"Lancashire\", \"Cheshire\",\n",
        "               \"Hampshire\", \"Essex\", \"Kent\", \"Surrey\", \"Hertfordshire\",\n",
        "               \"Norfolk\", \"Cambridgeshire\", \"Northamptonshire\", \"Leicestershire\",\n",
        "               \"Nottinghamshire\", \"Derbyshire\", \"Staffordshire\", \"Shropshire\",\n",
        "               \"Worcestershire\", \"Warwickshire\", \"Gloucestershire\",\n",
        "               \"Oxfordshire\", \"Berkshire\", \"Buckinghamshire\", \"Bedfordshire\",\n",
        "               \"Suffolk\", \"Lincolnshire\"]\n"
      ],
      "metadata": {
        "id": "N5NbTirVw8nJ"
      },
      "execution_count": null,
      "outputs": []
    },
    {
      "cell_type": "markdown",
      "source": [
        "uk_counties: A list containing the names of various counties in the UK. This list is used to randomly assign a county to each generated store."
      ],
      "metadata": {
        "id": "fnNSUOChw-Kn"
      }
    },
    {
      "cell_type": "code",
      "source": [
        "postcode_formats = [\n",
        "    \"A9 9AA\", \"A99 9AA\", \"AA9 9AA\", \"AA99 9AA\",\n",
        "    \"A9A 9AA\", \"AA9A 9AA\"\n",
        "]\n"
      ],
      "metadata": {
        "id": "e3GBxyGbxAY7"
      },
      "execution_count": null,
      "outputs": []
    },
    {
      "cell_type": "markdown",
      "source": [
        "postcode_formats: A list of common UK postcode formats where 'A' represents a letter and '9' represents a digit. This list is used to generate realistic UK postcodes."
      ],
      "metadata": {
        "id": "Gn-WzVH1xbT0"
      }
    },
    {
      "cell_type": "code",
      "source": [
        "def generate_postcode():\n",
        "    format_choice = random.choice(postcode_formats)\n",
        "    postcode = fake.bothify(format_choice.replace('A', '?').replace('9', '#')).upper()\n",
        "    return postcode\n"
      ],
      "metadata": {
        "id": "_o3J07RLx7L7"
      },
      "execution_count": null,
      "outputs": []
    },
    {
      "cell_type": "markdown",
      "source": [
        "postcode_formats: A list of common UK postcode formats where 'A' represents a letter and '9' represents a digit. This list is used to generate realistic UK postcodes."
      ],
      "metadata": {
        "id": "cl0HZmjsx9Bx"
      }
    },
    {
      "cell_type": "code",
      "source": [
        "def generate_postcode():\n",
        "    format_choice = random.choice(postcode_formats)\n",
        "    postcode = fake.bothify(format_choice.replace('A', '?').replace('9', '#')).upper()\n",
        "    return postcode\n"
      ],
      "metadata": {
        "id": "COmFgD7NyTz7"
      },
      "execution_count": null,
      "outputs": []
    },
    {
      "cell_type": "markdown",
      "source": [
        "generate_postcode(): This function generates a valid UK postcode.\n",
        "format_choice = random.choice(postcode_formats): Randomly selects a postcode format from the predefined list.\n",
        "fake.bothify(): Replaces 'A' with a random letter and '9' with a random digit to create a realistic postcode.\n",
        ".upper(): Converts the postcode to uppercase."
      ],
      "metadata": {
        "id": "0H5K7xs_yYA2"
      }
    },
    {
      "cell_type": "code",
      "source": [
        "def generate_store_data(store_id):\n",
        "    county = random.choice(uk_counties)\n",
        "    return {\n",
        "        \"Store ID\": store_id,\n",
        "        \"Store Name\": fake.company(),\n",
        "        \"County\": county,\n",
        "        \"City\": fake.city(),\n",
        "        \"Address\": fake.street_address(),\n",
        "        \"Postal Code\": generate_postcode(),\n",
        "        \"Phone Number\": fake.phone_number(),\n",
        "        \"Email\": fake.email(),\n",
        "        \"Manager Name\": fake.name(),\n",
        "        \"Inventory Count\": random.randint(100, 5000)\n",
        "    }\n"
      ],
      "metadata": {
        "id": "mbrUuGUjyfJ8"
      },
      "execution_count": null,
      "outputs": []
    },
    {
      "cell_type": "markdown",
      "source": [
        "generate_store_data(store_id): This function generates all the necessary data for a single store.\n",
        "county = random.choice(uk_counties): Randomly selects a county from the list of UK counties.\n",
        "\"Store ID\": Assigns the store ID passed to the function.\n",
        "\"Store Name\": Generates a fake company name.\n",
        "\"County\": Uses the randomly selected county.\n",
        "\"City\": Generates a fake city name.\n",
        "\"Address\": Generates a fake street address.\n",
        "\"Postal Code\": Generates a valid UK postcode using the generate_postcode() function.\n",
        "\"Phone Number\": Generates a fake UK phone number.\n",
        "\"Email\": Generates a fake email address.\n",
        "\"Manager Name\": Generates a fake name for the store manager.\n",
        "\"Inventory Count\": Generates a random inventory count between 100 and 5000."
      ],
      "metadata": {
        "id": "LRrEFfphyjeR"
      }
    },
    {
      "cell_type": "code",
      "source": [
        "store_data = [generate_store_data(i) for i in range(1, 1001)]\n"
      ],
      "metadata": {
        "id": "LTgtl9MIykKs"
      },
      "execution_count": null,
      "outputs": []
    },
    {
      "cell_type": "markdown",
      "source": [
        "store_data: A list comprehension that generates data for 1000 stores by calling generate_store_data(i) for each store ID from 1 to 1000."
      ],
      "metadata": {
        "id": "jVGlNw1_yl9k"
      }
    },
    {
      "cell_type": "code",
      "source": [
        "df = pd.DataFrame(store_data)\n"
      ],
      "metadata": {
        "id": "ug-tWdLayoRi"
      },
      "execution_count": null,
      "outputs": []
    },
    {
      "cell_type": "markdown",
      "source": [
        "df = pd.DataFrame(store_data): Converts the list of store data into a pandas DataFrame for easy manipulation and analysis."
      ],
      "metadata": {
        "id": "dNZ5Zb2tyrMR"
      }
    },
    {
      "cell_type": "code",
      "source": [
        "df.to_csv('warehouse_stores_uk.csv', index=False)\n"
      ],
      "metadata": {
        "id": "b_opj01pythu"
      },
      "execution_count": null,
      "outputs": []
    },
    {
      "cell_type": "markdown",
      "source": [
        "df.to_csv('warehouse_stores_uk.csv', index=False): Saves the DataFrame to a CSV file named 'warehouse_stores_uk.csv'. The index=False parameter ensures that the DataFrame index is not included in the CSV file."
      ],
      "metadata": {
        "id": "QbqfoJOAyxGv"
      }
    },
    {
      "cell_type": "code",
      "source": [
        "print(\"CSV file 'warehouse_stores_uk.csv' has been created.\")\n"
      ],
      "metadata": {
        "id": "EJAP9r6syxj5"
      },
      "execution_count": null,
      "outputs": []
    },
    {
      "cell_type": "markdown",
      "source": [
        "print(\"CSV file 'warehouse_stores_uk.csv' has been created.\"): Prints a confirmation message indicating that the CSV file has been successfully created."
      ],
      "metadata": {
        "id": "WdwmrdICy1OE"
      }
    }
  ]
}